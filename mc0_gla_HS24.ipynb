{
 "cells": [
  {
   "cell_type": "markdown",
   "metadata": {},
   "source": [
    "<div style=\"width: 80%\">\n",
    "<img src=\"image.png\"><br>\n",
    "<div style=\"font-size: 20pt; float: left;\">Grundlagen der linearen Algebra</div>\n",
    "<div style=\"font-size: 20pt; text-align: right;\">HS 2024</div>\n",
    "<div style=\"font-size: 15pt; margin-top: 10px;\">Fachexperten: Kathrin Gerhard, Roger Burkhardt</div>\n",
    "</div>\n",
    "<br>\n",
    "\n",
    "\n",
    "# Mini-Challenge 0 (MC0): Numpy und Matrizen\n",
    "\n",
    "**Ziel der Übung**\n",
    "\n",
    "Ziel dieser Mini-Challenge sind erste Gehversuche mit Python und Jupiter Notebooks zu machen. Daneben behandeln die Aufgaben der Übung mathematische Themen aus der Vorlesung. \n",
    "\n",
    "* Bei der ersten Aufgabe geht es um das Erstellen von Matrizen in Python. Dabei sind für die einzelnen Elemente Berechnungsvorschriften gegeben, welche an bestimmte Bedingungen geknüpft sind. Hier sollen Sie mittels for-Schleifen über alle Elemente iterieren und mit bedingten Strukturen (if) die korrekte Berechnungsvorschrift anwenden. Hauptziel ist hier sicherlich die Verwendung der Programmierstrukturen in der Programmiersprache Python.\n",
    "\n",
    "\n",
    "\n",
    "* Bei der zweiten Aufgabe werden Matrizen als Datenbehälter für die Umsatzzahlen einer Ladenkette verwendet. Mittels der Rechenoperationen mit Matrizen lassen sich nun die in den Matrizen gespeicherten Daten weiter verarbeiten. Ein zentrales Ziel ist das Verständnis für die Matrizenmultiplikation zu vertiefen.\n",
    "\n",
    "\n",
    "* Die dritte Aufgabe ist fakultativ und verwendet mathematische Themen die deutlich anspruchsvoller sind. Diese Aufgabe dient als Vorbereitung auf die dritte Programmierübung. Zudem ist auch der zu verwendende Befehlsumfang von Python deutlich grösser.\n",
    "\n",
    "Sie dürfen in dieses Notebook über den Menüpunkt 'Insert' durchaus weitere Zeilen einfügen. Falls Sie gerne Markdown-Notizen in die Zelle einfügen möchten, können Sie den Modus der Zelle von 'Code' auf 'Markdown' setzen (oder Esc-M drücken).\n",
    "\n",
    "**Rahmenbedingungen / Abgabe**\n",
    "\n",
    "* Die Studierenden sollen die Lösungen selbständig erarbeiten. Die Lösungen sind in folgender Form abzugeben: Jupyter Notebook Datei\n",
    "\n",
    "\n",
    "* Ihre Lösungen werden bewertet - die Note hat aber noch kein Gewicht (Vorbereitung auf die benoteten Übungsserien).\n",
    "\n",
    "\n",
    "* Es können gesamthaft 21 Punkte erreicht werden. Es kommt eine lineare Notenskala (0 Punkte => Note 1, 13 Punkte => Note 6) zum Einsatz! (Die dritte Aufgabe ist freiwillig, darum ist die 6 bereits bei 13 Punkten für Aufgabe 1 und Aufgabe 2 angesetzt)\n",
    "\n",
    "* Zeitaufwand: ca. 120 Minuten für Aufgabe 1 und 2, Zusatzaufwand für Aufgabe 3\n",
    "\n",
    "\n",
    "* **Abgabetermin: 5. Oktober 2018** - bitte senden Sie Ihre Lösungen gut dokumentiert per Email an [Cédric Huwyler](mailto:cedric.huwyler@fhnw.ch) bzw. [Roger Burkhardt](mailto:roger.burkhardt@fhnw.ch).\n",
    "\n",
    "\n",
    "* **Hinweis:** Je besser Sie Ihre Berechnungen und Ihren Code kommentieren, desto eher können Sie bei Fehlern noch Teilpunkte erhalten."
   ]
  },
  {
   "cell_type": "markdown",
   "metadata": {},
   "source": [
    "## Aufgabe 1\n",
    "\n",
    "In dieser ersten Aufgabe sollen Sie Matrizen mit Hilfe von Schleifen erzeugen. Gegeben ist eine mathematische Beschreibung der Elemente der Matrix, welche mittels Python-Programmierung umgesetzt werden soll.\n",
    "\n",
    "Beispiel: M sei eine 5x5-Matrix mit\n",
    "\n",
    "$$m_{i,j} = \\left\\{\\begin{array}{cc}1&\\text{wenn }i=j\\\\i\\cdot j&\\text{sonst}\\end{array}\\right.$$\n",
    "\n",
    "Hier wird zuerst eine Matrix in der gewünschten Dimension mit lauter Nullen erzeugt:"
   ]
  },
  {
   "cell_type": "code",
   "execution_count": 3,
   "metadata": {
    "collapsed": true,
    "jupyter": {
     "outputs_hidden": true
    }
   },
   "outputs": [],
   "source": [
    "import numpy as np\n",
    "M = np.zeros((5,5))"
   ]
  },
  {
   "cell_type": "markdown",
   "metadata": {},
   "source": [
    "Nun wird mit zwei for-Schleifen über alle Elemente der Matrix iteriert und je nach Bedingung der entsprechende Wert gesetzt:"
   ]
  },
  {
   "cell_type": "code",
   "execution_count": 3,
   "metadata": {},
   "outputs": [
    {
     "name": "stdout",
     "output_type": "stream",
     "text": [
      "[[ 1.  0.  0.  0.  0.]\n",
      " [ 0.  1.  2.  3.  4.]\n",
      " [ 0.  2.  1.  6.  8.]\n",
      " [ 0.  3.  6.  1. 12.]\n",
      " [ 0.  4.  8. 12.  1.]]\n"
     ]
    }
   ],
   "source": [
    "for z in range(0,5):\n",
    "    for s in range(0,5):\n",
    "        if z==s:\n",
    "            M[z,s] = 1\n",
    "        else:\n",
    "            M[z,s] = (z + 1)*(s + 1)\n",
    "print(M)"
   ]
  },
  {
   "cell_type": "markdown",
   "metadata": {},
   "source": [
    "Erzeugen Sie die folgenden Matrizen:\n",
    "\n",
    "### Teilaufgabe a.) (2 Punkte)\n",
    "\n",
    "A sei eine 2x10-Matrix mit\n",
    "\n",
    "$$a_{ij} = \\left\\{\\begin{array}{cc}i&\\text{wenn }i=1\\\\i^2&\\text{wenn }i=2\\end{array}\\right.$$"
   ]
  },
  {
   "cell_type": "code",
   "execution_count": 21,
   "metadata": {
    "collapsed": true,
    "jupyter": {
     "outputs_hidden": true
    }
   },
   "outputs": [
    {
     "name": "stdout",
     "output_type": "stream",
     "text": [
      "[[1. 1. 1. 1. 1. 1. 1. 1. 1. 1.]\n",
      " [4. 4. 4. 4. 4. 4. 4. 4. 4. 4.]]\n"
     ]
    }
   ],
   "source": [
    "M = np.zeros((2,10))\n",
    "\n",
    "for z in range(2):\n",
    "    for s in range(10):\n",
    "        if z==0:\n",
    "            M[z,s] = 1\n",
    "        else:\n",
    "            M[z, s] = 2**2\n",
    "                \n",
    "print(M)\n"
   ]
  },
  {
   "cell_type": "markdown",
   "metadata": {},
   "source": [
    "### Teilaufgabe b.) (2 Punkte)\n",
    "\n",
    "B sei eine 6x6-Matrix mit\n",
    "\n",
    "$$b_{ij} = \\left\\{\\begin{array}{cc}0&\\text{wenn }i=j\\\\i+j&\\text{wenn }i<j\\\\i-j&\\text{wenn }i>j\\end{array}\\right.$$"
   ]
  },
  {
   "cell_type": "code",
   "execution_count": 24,
   "metadata": {
    "collapsed": true,
    "jupyter": {
     "outputs_hidden": true
    }
   },
   "outputs": [
    {
     "data": {
      "text/plain": [
       "array([[0., 1., 2., 3., 4., 5.],\n",
       "       [1., 0., 3., 4., 5., 6.],\n",
       "       [2., 1., 0., 5., 6., 7.],\n",
       "       [3., 2., 1., 0., 7., 8.],\n",
       "       [4., 3., 2., 1., 0., 9.],\n",
       "       [5., 4., 3., 2., 1., 0.]])"
      ]
     },
     "execution_count": 24,
     "metadata": {},
     "output_type": "execute_result"
    }
   ],
   "source": [
    "M = np.zeros((6, 6))\n",
    "\n",
    "for i in range(6):\n",
    "    for j in range(6):\n",
    "        if i == j:\n",
    "            M[i, j] = 0\n",
    "        elif i < j:\n",
    "            M[i, j] = i + j\n",
    "        elif i > j:\n",
    "            M[i, j] = i - j\n",
    "\n",
    "M\n"
   ]
  },
  {
   "cell_type": "markdown",
   "metadata": {},
   "source": [
    "### Teilaufgabe c.) (2 Punkte)\n",
    "\n",
    "C sei eine 5x5-Matrix mit\n",
    "\n",
    "$$c_{ij} = \\left\\{\\begin{array}{cc}0&\\text{wenn }i+j<6\\\\1&\\text{wenn }i+j=6\\\\2&\\text{wenn }i+j>6\\end{array}\\right.$$"
   ]
  },
  {
   "cell_type": "code",
   "execution_count": 20,
   "metadata": {
    "collapsed": true,
    "jupyter": {
     "outputs_hidden": true
    }
   },
   "outputs": [
    {
     "data": {
      "text/plain": [
       "array([[0., 0., 0., 0., 0.],\n",
       "       [0., 0., 0., 0., 0.],\n",
       "       [0., 0., 0., 0., 1.],\n",
       "       [0., 0., 0., 1., 2.],\n",
       "       [0., 0., 1., 2., 2.]])"
      ]
     },
     "execution_count": 20,
     "metadata": {},
     "output_type": "execute_result"
    }
   ],
   "source": [
    "M = np.zeros((5, 5))\n",
    "\n",
    "for i in range(5):\n",
    "    for j in range(5):\n",
    "        if (i + j) < 6:\n",
    "            M[i][j] = 0\n",
    "        elif (i + j) == 6:\n",
    "            M[i][j] = 1\n",
    "        elif (i + j) > 6:\n",
    "            M[i][j] = 2\n",
    "            \n",
    "M"
   ]
  },
  {
   "cell_type": "markdown",
   "metadata": {},
   "source": [
    "## Aufgabe 2\n",
    "\n",
    "Eine Sportkette hat Niederlassungen in Zürich, Davos, Berlin und New-York. Im folgenden sind die Umsatzzahlen von 2017 der 4 Filialen nach Quartalen und Sportarten aufgeführt:\n",
    "\n",
    "* Zürich (Z) in 1000 CHF\n",
    "\\begin{array}{ccccc}Quartal&Q_1&Q_2&Q_3&Q_4\\\\ \\hline\n",
    "Ballsport&25&175&200&15\\\\ \\hline\n",
    "Laufsport&35&375&240&40\\\\ \\hline\n",
    "Wintersport&320&20&60&270\\\\ \\hline\n",
    "Bergsport&10&120&90&150\\\\ \\hline\n",
    "\\end{array}\n",
    "\n",
    "* Davos (D) in 1000 CHF\n",
    "\\begin{array}{ccccc}Quartal&Q_1&Q_2&Q_3&Q_4\\\\ \\hline\n",
    "Ballsport&10&100&100&25\\\\ \\hline\n",
    "Laufsport&25&175&150&10\\\\ \\hline\n",
    "Wintersport&450&150&120&625\\\\ \\hline\n",
    "Bergsport&15&175&250&60\\\\ \\hline\\end{array}\n",
    "\n",
    "* Berlin (B) in 1000 Euro\n",
    "\\begin{array}{ccccc}Quartal&Q_1&Q_2&Q_3&Q_4\\\\ \\hline\n",
    "Ballsport&50&320&280&125\\\\ \\hline\n",
    "Laufsport&110&455&610&55\\\\ \\hline\n",
    "Wintersport&55&10&10&120\\\\ \\hline\n",
    "Bergsport&75&380&410&120\\\\ \\hline\\end{array}\n",
    "\n",
    "* New-York (N) in 1000 Dollar\n",
    "\\begin{array}{ccccc}Quartal&Q_1&Q_2&Q_3&Q_4\\\\ \\hline\n",
    "Ballsport&40&250&310&150\\\\ \\hline\n",
    "Laufsport&250&515&520&325\\\\ \\hline\n",
    "Wintersport&35&25&15&150\\\\ \\hline\n",
    "Bergsport&95&265&830&210\\\\ \\hline\\end{array}\n",
    "\n"
   ]
  },
  {
   "cell_type": "markdown",
   "metadata": {},
   "source": [
    "### Teilaufgabe a.) (1 Punkt)\n",
    "\n",
    "Definieren Sie die Matrizen Z, D, B und N mit den Umsatzzahlen gemäss obigen Tabellen!\n"
   ]
  },
  {
   "cell_type": "code",
   "execution_count": 38,
   "metadata": {
    "collapsed": true,
    "jupyter": {
     "outputs_hidden": true
    }
   },
   "outputs": [],
   "source": [
    "Z = ([[ 25,  175,  200,  15],\n",
    "      [ 35,  375,  240,  40],\n",
    "      [ 320,  20,  60,  270],\n",
    "      [ 10,  120,  90,  150]])\n",
    "\n",
    "D = ([[10, 100, 100, 25],\n",
    "      [25, 175, 150, 10],\n",
    "      [450, 150, 120, 625],\n",
    "      [15, 175, 250, 60]])\n",
    "\n",
    "B = ([[50, 320, 280, 125],\n",
    "      [110, 455, 610, 55],\n",
    "      [55, 10, 10, 120],\n",
    "      [75, 380, 410, 120]])\n",
    "\n",
    "N = ([[40, 250, 310, 150],\n",
    "      [250, 515, 520, 325],\n",
    "      [35, 25, 15, 150],\n",
    "      [95, 265, 830, 210]])"
   ]
  },
  {
   "cell_type": "markdown",
   "metadata": {},
   "source": [
    "### Teilaufgabe b.) (1 Punkt)\n",
    "\n",
    "Bestimmen Sie für die vier Niederlassungen die Umsatzzahlen in Schweizer Franken (Umrechnungkurs: 1 Dollar entspricht 0.97 Franken, 1 Euro entspricht 1.13 Franken), indem Sie die Matrizen der Teilaufgabe a) mit einem passenden Zahlenwert multiplizieren. "
   ]
  },
  {
   "cell_type": "code",
   "execution_count": 39,
   "metadata": {
    "collapsed": true,
    "jupyter": {
     "outputs_hidden": true
    }
   },
   "outputs": [
    {
     "name": "stdout",
     "output_type": "stream",
     "text": [
      "[[ 56 362 316 141]\n",
      " [124 514 689  62]\n",
      " [ 62  11  11 136]\n",
      " [ 85 429 463 136]]\n",
      "[[ 39 242 301 146]\n",
      " [242 500 504 315]\n",
      " [ 34  24  15 146]\n",
      " [ 92 257 805 204]]\n"
     ]
    }
   ],
   "source": [
    "#Z & D bleiben, da bereits in CHF\n",
    "\n",
    "for i in range(len(B[0])):\n",
    "    for j in range(len(B[1])):\n",
    "        B[i][j] = round(B[i][j] * 1.13)\n",
    "\n",
    "for i in range(len(N[0])):\n",
    "    for j in range(len(N[1])):\n",
    "        N[i][j] = round(N[i][j] * 0.97)\n",
    "        \n",
    "print(np.matrix(B))\n",
    "print(np.matrix(N))"
   ]
  },
  {
   "cell_type": "markdown",
   "metadata": {},
   "source": [
    "### Teilaufgabe c.) (1 Punkt)\n",
    "\n",
    "Bestimmen Sie den Gesamtumsatz (nach Quartalen und Sportarten unterteilt) über alle Filialen, indem Sie die vier Matrizen der Teilaufgabe a) mittels einer passenden Linearkombination\n",
    "$$G=k_1\\cdot Z+k_2\\cdot D+k_3\\cdot B+k_4\\cdot N$$\n",
    "verknüpfen."
   ]
  },
  {
   "cell_type": "code",
   "execution_count": 53,
   "metadata": {
    "collapsed": true,
    "jupyter": {
     "outputs_hidden": true
    }
   },
   "outputs": [
    {
     "name": "stdout",
     "output_type": "stream",
     "text": [
      "Gewinn in CHF:\n",
      "--------------\n",
      "Q1:  1624\n",
      "Q2:  3629\n",
      "Q3:  4314\n",
      "Q4:  2481\n"
     ]
    }
   ],
   "source": [
    "def sum_win(q):\n",
    "    row = 0\n",
    "    q = q - 1\n",
    "    sum_z = 0\n",
    "    sum_d = 0\n",
    "    sum_b = 0\n",
    "    sum_n = 0\n",
    "\n",
    "    for i in range(len(Z[0])):\n",
    "        sum_z = sum_z + Z[row][q]\n",
    "        row = row + 1\n",
    "\n",
    "    row = 0\n",
    "\n",
    "    for i in range(len(D[0])):\n",
    "        sum_d = sum_d + D[row][q]\n",
    "        row = row + 1\n",
    "\n",
    "    row = 0\n",
    "\n",
    "    for i in range(len(B[0])):\n",
    "        sum_b = sum_b + B[row][q]\n",
    "        row = row + 1\n",
    "\n",
    "    row = 0\n",
    "\n",
    "    for i in range(len(N[0])):\n",
    "        sum_n = sum_n + N[row][q]\n",
    "        row = row + 1\n",
    "\n",
    "    row = 0    \n",
    "\n",
    "    return sum_z + sum_d + sum_b + sum_n\n",
    "\n",
    "Q_1 = sum_win(1)\n",
    "Q_2 = sum_win(2)\n",
    "Q_3 = sum_win(3)\n",
    "Q_4 = sum_win(4)\n",
    "\n",
    "print(\"Gewinn in 1000 CHF:\" + \"\\n\" + \"--------------\")\n",
    "print(\"Q1: \", Q_1)\n",
    "print(\"Q2: \", Q_2)\n",
    "print(\"Q3: \", Q_3)\n",
    "print(\"Q4: \", Q_4)\n"
   ]
  },
  {
   "cell_type": "markdown",
   "metadata": {},
   "source": [
    "### Teilaufgabe d.) (2 Punkte)\n",
    "\n",
    "Bestimmen Sie pro Filiale und gesamthaft den Umsatz (in Schweizer Franken)\n",
    "\n",
    "* pro Quartal\n",
    "* pro Sportart\n",
    "\n",
    "mittels passender Matrizenmultiplikationen!"
   ]
  },
  {
   "cell_type": "code",
   "execution_count": 85,
   "metadata": {
    "collapsed": true,
    "jupyter": {
     "outputs_hidden": true
    }
   },
   "outputs": [
    {
     "name": "stdout",
     "output_type": "stream",
     "text": [
      "---- Umsatz pro Quartal ----\n",
      "\n",
      "Zürich:\n",
      "--------\n",
      "1. Quartal:  390\n",
      "2. Quartal:  690\n",
      "3. Quartal:  590\n",
      "4. Quartal:  475\n",
      "\n",
      "Davos:\n",
      "--------\n",
      "1. Quartal:  500\n",
      "2. Quartal:  600\n",
      "3. Quartal:  620\n",
      "4. Quartal:  720\n",
      "\n",
      "Berlin:\n",
      "--------\n",
      "1. Quartal:  327\n",
      "2. Quartal:  1316\n",
      "3. Quartal:  1479\n",
      "4. Quartal:  475\n",
      "\n",
      "New York:\n",
      "--------\n",
      "1. Quartal:  407\n",
      "2. Quartal:  1023\n",
      "3. Quartal:  1625\n",
      "4. Quartal:  811\n",
      "---- Umsatz pro Sportart ----\n",
      "\n",
      "Zürich:\n",
      "--------\n",
      "Ballsport:  415\n",
      "Laufsport:  690\n",
      "Wintersport:  670\n",
      "Bergsport:  370\n",
      "\n",
      "Davos:\n",
      "--------\n",
      "Ballsport:  235\n",
      "Laufsport:  360\n",
      "Wintersport:  1345\n",
      "Bergsport:  500\n",
      "\n",
      "Berlin:\n",
      "--------\n",
      "Ballsport:  875\n",
      "Laufsport:  1389\n",
      "Wintersport:  220\n",
      "Bergsport:  1113\n",
      "\n",
      "New York:\n",
      "--------\n",
      "Ballsport:  728\n",
      "Laufsport:  1561\n",
      "Wintersport:  219\n",
      "Bergsport:  1358\n"
     ]
    }
   ],
   "source": [
    "#summe pro Quartal berechnen\n",
    "def sum_quartal(q, M):\n",
    "    row = 0\n",
    "    sum = 0\n",
    "\n",
    "    for i in range(len(M[0])):\n",
    "        sum = sum + M[row][q]\n",
    "        row = row + 1\n",
    "    \n",
    "    return sum\n",
    "\n",
    "#summe pro Sportart berechnen\n",
    "def sum_sport(s, M):\n",
    "    sum = 0\n",
    "    q = 0\n",
    "    count =  0\n",
    "    for i in range(len(M[0])):\n",
    "        sum = sum + M[s][q + count];\n",
    "        count = count + 1\n",
    "\n",
    "    return sum\n",
    "\n",
    "#resultat anzeigen (je nach Quartal oder Sportart)\n",
    "def print_result(M, h):\n",
    "    text = \"\"\n",
    "    sum = 0\n",
    "\n",
    "    #Falls Sportart -> Text für Sportart definieren\n",
    "    if h == \"Sportart\":\n",
    "        for i in range(len(M[0])):\n",
    "            if i == 0:\n",
    "                text = \"Ballsport: \"\n",
    "            elif i == 1:\n",
    "                text = \"Laufsport: \"\n",
    "            elif i == 2:\n",
    "                text = \"Wintersport: \"\n",
    "            elif i == 3:\n",
    "                text = \"Bergsport: \"\n",
    "\n",
    "            #Summe für Sportart berechnen\n",
    "            sum = sum_sport(i, M)\n",
    "            print(text, sum)\n",
    "\n",
    "    #Falls Quartal -> Text für Quartal definieren\n",
    "    elif h == \"Quartal\":\n",
    "        for i in range(len(M[0])):\n",
    "            if i == 0:\n",
    "                text = \"1. Quartal: \"\n",
    "            elif i == 1:\n",
    "                text = \"2. Quartal: \"\n",
    "            elif i == 2:\n",
    "                text = \"3. Quartal: \"\n",
    "            elif i == 3:\n",
    "                text = \"4. Quartal: \"     \n",
    "\n",
    "            #Summe für Quartal berechnen\n",
    "            sum = sum_quartal(i, M)\n",
    "            print(text, sum)\n",
    "\n",
    "\n",
    "#Resultate anzeigen\n",
    "print(\"---- Umsatz pro Quartal in 1000 CHF ----\" + \"\\n\")\n",
    "print(\"Zürich:\" + \"\\n\" + \"--------\")\n",
    "print_result(Z, \"Quartal\")\n",
    "\n",
    "print(\"\\n\" + \"Davos:\" + \"\\n\" + \"--------\")\n",
    "print_result(D, \"Quartal\")\n",
    "\n",
    "print(\"\\n\" + \"Berlin:\" + \"\\n\" + \"--------\")\n",
    "print_result(B, \"Quartal\")\n",
    "\n",
    "print(\"\\n\" + \"New York:\" + \"\\n\" + \"--------\")\n",
    "print_result(N, \"Quartal\")\n",
    "\n",
    "print(\"---- Umsatz pro Sportart in 1000 CHF ----\" + \"\\n\")\n",
    "print(\"Zürich:\" + \"\\n\" + \"--------\")\n",
    "print_result(Z, \"Sportart\")\n",
    "\n",
    "print(\"\\n\" + \"Davos:\" + \"\\n\" + \"--------\")\n",
    "print_result(D, \"Sportart\")\n",
    "\n",
    "print(\"\\n\" + \"Berlin:\" + \"\\n\" + \"--------\")\n",
    "print_result(B, \"Sportart\")\n",
    "\n",
    "print(\"\\n\" + \"New York:\" + \"\\n\" + \"--------\")\n",
    "print_result(N, \"Sportart\")\n",
    "\n",
    "    \n",
    "\n"
   ]
  },
  {
   "cell_type": "markdown",
   "metadata": {},
   "source": [
    "### Teilaufgabe e.) (2 Punkte)\n",
    "\n",
    "Bestimmen Sie den Gesamtumsatz (in schweizer Franken) der Sportkette mittels der vier Matrizen aus Teilaufgabe a) mit einer Berechnungsformel!"
   ]
  },
  {
   "cell_type": "code",
   "execution_count": 89,
   "metadata": {
    "collapsed": true,
    "jupyter": {
     "outputs_hidden": true
    }
   },
   "outputs": [
    {
     "name": "stdout",
     "output_type": "stream",
     "text": [
      "Gesamtumsatz in 1000 CHF:  12048\n"
     ]
    }
   ],
   "source": [
    "def sum_per_location(M):\n",
    "    sum = 0\n",
    "    for i in range(len(M[0])):\n",
    "        for j in range(len(M[1])):\n",
    "            sum = sum + M[i][j]\n",
    "\n",
    "    return sum\n",
    "\n",
    "def sum_all(Z, D, B, N):\n",
    "     sum_z = sum_per_location(Z)\n",
    "     sum_d = sum_per_location(D) \n",
    "     sum_b = sum_per_location(B)\n",
    "     sum_n = sum_per_location(N)\n",
    "\n",
    "     sum_all = sum_z + sum_d + sum_b + sum_n\n",
    "     \n",
    "     return sum_all\n",
    "\n",
    "print(\"Gesamtumsatz in 1000 CHF: \", sum_all(Z, D, B, N))\n",
    "\n",
    "\n"
   ]
  },
  {
   "cell_type": "markdown",
   "metadata": {},
   "source": [
    "## Aufgabe 3\n",
    "\n",
    "### Grenzverteilung bei einem (regulären)  stochastischen Prozess (Markov-Kette)\n",
    "\n",
    "Wir unterscheiden zwischen nassen (N) und trockenen (T) Tagen. In Windisch haben statistische Untersuchungen gezeigt, dass auf einen trockenen Tag mit 70%-iger Wahrscheinlichkeit wieder ein trockener Tag folgt und dass auf einen nassen Tag mit einer Wahrscheinlichkeit von 60% wieder ein nasser Tag folgt. Heute sei ein trockener Tag.\n",
    "\n",
    "Der obige Sachverhalt kann als stochastischer Prozess (Markov-Kette) interpretiert werden. Hierzu verwendet man folgende mathematische Formulierung:\n",
    "\n",
    "Zustände:\n",
    "\n",
    "$I = \\left\\{\\begin{array}{cc}T&N\\end{array}\\right\\}$\n",
    "\n",
    "Übergangsmatrix:\n",
    "\n",
    "$U =\\left(\\begin{array}{cc}0.7&0.4\\\\0.3&0.6\\end{array}\\right)$\n",
    "     \n",
    "Startverteilung:\n",
    "\n",
    "$\\pi_0 = \\left(\\begin{array}{c}1\\\\0\\end{array}\\right)$\n",
    "\n",
    "Die Wahrscheinlichkeit, dass nach einem Tag ein trockener bzw. ein nasser Tag vorliegt, ist gleich:\n",
    "\n",
    "$$\\begin{eqnarray*}t_1&=&0.7\\cdot t_0+0.4\\cdot n_0\\\\n_1&=&0.3\\cdot t_0+0.6\\cdot n_0\\end{eqnarray*}$$\n",
    "\n",
    "In Matrizennotation ist dies gleich:\n",
    "\n",
    "$$\\pi_1=\\left(\\begin{array}{c}t_1\\\\n_1\\end{array}\\right)=\\left(\\begin{array}{cc}0.7&0.4\\\\0.3&0.6\\end{array}\\right)\\cdot\\left(\\begin{array}{c}t_0\\\\n_0\\end{array}\\right)=U\\cdot \\pi_0$$"
   ]
  },
  {
   "cell_type": "code",
   "execution_count": 11,
   "metadata": {},
   "outputs": [
    {
     "name": "stdout",
     "output_type": "stream",
     "text": [
      "U =  [[ 0.7  0.4]\n",
      " [ 0.3  0.6]]\n",
      "\n",
      "pi_0 =  [[1]\n",
      " [0]]\n",
      "\n"
     ]
    }
   ],
   "source": [
    "U = np.array([[0.7,0.4],[0.3,0.6]])\n",
    "print('U = ',U)\n",
    "print()\n",
    "\n",
    "pi_0 = np.array([[1],[0]])\n",
    "print('pi_0 = ',pi_0)\n",
    "print()"
   ]
  },
  {
   "cell_type": "markdown",
   "metadata": {},
   "source": [
    "### Teilaufgabe a.) (2 Punkte)\n",
    "\n",
    "Bestimmen Sie für die nächsten 5 Tage die Wahrscheinlichkeit für einen trockenen Tag."
   ]
  },
  {
   "cell_type": "code",
   "execution_count": 12,
   "metadata": {},
   "outputs": [
    {
     "name": "stdout",
     "output_type": "stream",
     "text": [
      "t_1 =  [ 0.7]\n",
      "\n"
     ]
    }
   ],
   "source": [
    "# Lösung Teilaufgabe a.)\n",
    "pi_1 = np.dot(U,pi_0)\n",
    "t_1 = pi_1[0]\n",
    "print('t_1 = ',t_1)\n",
    "print()\n"
   ]
  },
  {
   "cell_type": "markdown",
   "metadata": {},
   "source": [
    "### Teilaufgabe b.) (2 Punkte)\n",
    "\n",
    "Erstellen Sie je einen Vektor der Wahrscheinlichkeiten für trockene bzw. nasse Tage \n",
    "\n",
    "$$\\begin{eqnarray*}v_T &=& \\left[t_0,t_1,t_2,\\ldots,t_n\\right]\\\\v_N &=& \\left[n_0,n_1,n_2,\\ldots,n_n\\right]\\end{eqnarray*}$$\n",
    "\n",
    "für $n=30$ Tage. Stellen Sie die gefundenen Wahrscheinlichkeiten grafisch dar!\n"
   ]
  },
  {
   "cell_type": "code",
   "execution_count": 13,
   "metadata": {},
   "outputs": [
    {
     "name": "stdout",
     "output_type": "stream",
     "text": [
      "v_T =  [ 1.  0.  0.  0.  0.  0.  0.  0.  0.  0.  0.  0.  0.  0.  0.  0.  0.  0.\n",
      "  0.  0.  0.  0.  0.  0.  0.  0.  0.  0.  0.  0.  0.]\n",
      "\n",
      "v_N =  [ 0.  0.  0.  0.  0.  0.  0.  0.  0.  0.  0.  0.  0.  0.  0.  0.  0.  0.\n",
      "  0.  0.  0.  0.  0.  0.  0.  0.  0.  0.  0.  0.  0.]\n"
     ]
    },
    {
     "data": {
      "image/png": "[encoded data removed]",
      "text/plain": [
       "<matplotlib.figure.Figure at 0x16727acfeb8>"
      ]
     },
     "metadata": {},
     "output_type": "display_data"
    }
   ],
   "source": [
    "# Lösungen Teilaufgabe b.)\n",
    "n=30\n",
    "pi_k = pi_0\n",
    "v_T = np.zeros(n+1)\n",
    "v_T[0] = pi_k[0]\n",
    "v_N = np.zeros(n+1)\n",
    "v_N[0] = pi_k[1]\n",
    "for k in range(1,n+1):\n",
    "    pi_k = np.dot(U,pi_k)\n",
    "    #...\n",
    "    #...\n",
    "    #...\n",
    "print('v_T = ',v_T)\n",
    "print()\n",
    "print('v_N = ',v_N)\n",
    "\n",
    "# Visualisierung:\n",
    "import matplotlib.pyplot as plt\n",
    "xx = np.arange(0, n+1, 1)\n",
    "\n",
    "plt.figure(1)\n",
    "plt.plot(xx, v_T, 'r-')\n",
    "plt.plot(xx, v_N, 'b-')\n",
    "\n",
    "plt.show()"
   ]
  },
  {
   "cell_type": "markdown",
   "metadata": {},
   "source": [
    "### Teilaufgabe c.) (4 Punkte)\n",
    "\n",
    "Aus der Grafik ist ersichtlich, dass sich die Wahrscheinlichkeiten für trockene bzw. nasse Tage einem Grenzwert annähern. Versuchen Sie diese Grenzwerte zu berechnen. Gehen Sie dazu von der Überlegung aus, dass sich im Grenzustand nichts mehr verändert, d.h.\n",
    "\n",
    "$$\\pi_{k+1}=\\pi_k=U\\cdot\\pi_k$$"
   ]
  },
  {
   "cell_type": "code",
   "execution_count": 14,
   "metadata": {
    "collapsed": true,
    "jupyter": {
     "outputs_hidden": true
    }
   },
   "outputs": [],
   "source": [
    "# Lösung Teilaufgabe c.)\n"
   ]
  }
 ],
 "metadata": {
  "kernelspec": {
   "display_name": "Python 3 (ipykernel)",
   "language": "python",
   "name": "python3"
  },
  "language_info": {
   "codemirror_mode": {
    "name": "ipython",
    "version": 3
   },
   "file_extension": ".py",
   "mimetype": "text/x-python",
   "name": "python",
   "nbconvert_exporter": "python",
   "pygments_lexer": "ipython3",
   "version": "3.12.4"
  }
 },
 "nbformat": 4,
 "nbformat_minor": 4
}
